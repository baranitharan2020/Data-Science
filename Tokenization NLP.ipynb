{
 "cells": [
  {
   "cell_type": "code",
   "execution_count": 2,
   "metadata": {},
   "outputs": [],
   "source": [
    "import nltk"
   ]
  },
  {
   "cell_type": "code",
   "execution_count": 5,
   "metadata": {},
   "outputs": [],
   "source": [
    "from nltk.tokenize import sent_tokenize, word_tokenize"
   ]
  },
  {
   "cell_type": "code",
   "execution_count": 12,
   "metadata": {},
   "outputs": [],
   "source": [
    "Temp = \"Hello Mr.Baranitharan!, How are you? Here we'll discuss about the Tokenization using NLTK. NLTK is a package in python for Natural language processing (NLP)\""
   ]
  },
  {
   "cell_type": "code",
   "execution_count": 13,
   "metadata": {},
   "outputs": [
    {
     "name": "stdout",
     "output_type": "stream",
     "text": [
      "['Hello Mr.Baranitharan!, How are you?', \"Here we'll discuss about the Tokenization using NLTK.\", 'NLTK is a package in python for Natural language processing (NLP)']\n"
     ]
    }
   ],
   "source": [
    "print(sent_tokenize(Temp))"
   ]
  },
  {
   "cell_type": "code",
   "execution_count": 14,
   "metadata": {},
   "outputs": [
    {
     "name": "stdout",
     "output_type": "stream",
     "text": [
      "['Hello', 'Mr.Baranitharan', '!', ',', 'How', 'are', 'you', '?', 'Here', 'we', \"'ll\", 'discuss', 'about', 'the', 'Tokenization', 'using', 'NLTK', '.', 'NLTK', 'is', 'a', 'package', 'in', 'python', 'for', 'Natural', 'language', 'processing', '(', 'NLP', ')']\n"
     ]
    }
   ],
   "source": [
    "print(word_tokenize(Temp))"
   ]
  }
 ],
 "metadata": {
  "kernelspec": {
   "display_name": "Python 3",
   "language": "python",
   "name": "python3"
  },
  "language_info": {
   "codemirror_mode": {
    "name": "ipython",
    "version": 3
   },
   "file_extension": ".py",
   "mimetype": "text/x-python",
   "name": "python",
   "nbconvert_exporter": "python",
   "pygments_lexer": "ipython3",
   "version": "3.7.3"
  }
 },
 "nbformat": 4,
 "nbformat_minor": 2
}
